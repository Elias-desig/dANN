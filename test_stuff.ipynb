{
 "cells": [
  {
   "cell_type": "code",
   "execution_count": 1,
   "id": "63259637",
   "metadata": {},
   "outputs": [
    {
     "data": {
      "image/png": "[encoded data removed]",
      "text/plain": [
       "<Figure size 640x480 with 1 Axes>"
      ]
     },
     "metadata": {},
     "output_type": "display_data"
    }
   ],
   "source": [
    "from masks import rf_mask, somatic_mask\n",
    "import matplotlib.pyplot as plt\n",
    "img_size = 4\n",
    "d_mask = rf_mask([img_size,img_size], img_size, type='random', rf_size=2)\n",
    "s_mask = somatic_mask(20, 10)\n",
    "plt.imshow(d_mask)\n",
    "plt.show()"
   ]
  },
  {
   "cell_type": "code",
   "execution_count": null,
   "id": "843713ad",
   "metadata": {},
   "outputs": [
    {
     "name": "stdout",
     "output_type": "stream",
     "text": [
      "cuda\n",
      "209514\n"
     ]
    },
    {
     "name": "stderr",
     "output_type": "stream",
     "text": [
      "100%|██████████| 3750/3750 [00:31<00:00, 118.64it/s]\n",
      "Testing: 100%|██████████| 625/625 [00:03<00:00, 157.63it/s]\n"
     ]
    },
    {
     "name": "stdout",
     "output_type": "stream",
     "text": [
      "train loss: 1.6105666226704916, test loss: 1.5789371669769288, test accuracy: 0.881\n"
     ]
    },
    {
     "name": "stderr",
     "output_type": "stream",
     "text": [
      "100%|██████████| 3750/3750 [00:32<00:00, 115.51it/s]\n",
      "Testing: 100%|██████████| 625/625 [00:04<00:00, 153.17it/s]\n"
     ]
    },
    {
     "name": "stdout",
     "output_type": "stream",
     "text": [
      "train loss: 1.5775432476997375, test loss: 1.5621707790374755, test accuracy: 0.8996\n"
     ]
    },
    {
     "name": "stderr",
     "output_type": "stream",
     "text": [
      "100%|██████████| 3750/3750 [00:33<00:00, 112.39it/s]\n",
      "Testing: 100%|██████████| 625/625 [00:03<00:00, 156.52it/s]\n"
     ]
    },
    {
     "name": "stdout",
     "output_type": "stream",
     "text": [
      "train loss: 1.5738247684478759, test loss: 1.559191660118103, test accuracy: 0.9019\n"
     ]
    },
    {
     "name": "stderr",
     "output_type": "stream",
     "text": [
      "100%|██████████| 3750/3750 [00:32<00:00, 116.48it/s]\n",
      "Testing: 100%|██████████| 625/625 [00:03<00:00, 162.32it/s]\n"
     ]
    },
    {
     "name": "stdout",
     "output_type": "stream",
     "text": [
      "train loss: 1.5724535714467367, test loss: 1.5666516611099244, test accuracy: 0.8943\n"
     ]
    },
    {
     "name": "stderr",
     "output_type": "stream",
     "text": [
      "100%|██████████| 3750/3750 [00:32<00:00, 113.91it/s]\n",
      "Testing: 100%|██████████| 625/625 [00:04<00:00, 145.24it/s]"
     ]
    },
    {
     "name": "stdout",
     "output_type": "stream",
     "text": [
      "train loss: 1.5742003948529562, test loss: 1.5646720714569091, test accuracy: 0.8961\n"
     ]
    },
    {
     "name": "stderr",
     "output_type": "stream",
     "text": [
      "\n"
     ]
    }
   ],
   "source": [
    "from models import dANN, count_parameters\n",
    "from train import train, test\n",
    "import torchvision.datasets as datasets\n",
    "from torchvision.transforms import v2\n",
    "from torch.utils.data import DataLoader\n",
    "import os\n",
    "import torch\n",
    "\n",
    "\n",
    "train_transforms = v2.Compose([\n",
    "    v2.ToImage(),\n",
    "    v2.ToDtype(torch.float32, scale=True),  # Converts to [0,1] range\n",
    "    v2.Normalize(mean=[0.1307], std=[0.3081])  # MNIST-specific normalization\n",
    "])\n",
    "\n",
    "\n",
    "os.makedirs('./data', exist_ok=True)\n",
    "\n",
    "mnist_train = datasets.MNIST(root='./data', train=True, download=True, transform=train_transforms)\n",
    "mnist_test = datasets.MNIST(root='./data', train=False, download=True, transform=train_transforms)\n",
    "\n",
    "train_loader = DataLoader(mnist_train, batch_size=16, shuffle=True)\n",
    "test_loader = DataLoader(mnist_test, batch_size=16, shuffle=False)\n",
    "\n",
    "sample = mnist_train[0]\n",
    "\n",
    "device = torch.device('cuda' if torch.cuda.is_available() else 'cpu')\n",
    "print(device)\n",
    "\n",
    "model = dANN([28,28], 256,32,10, 'local').to(device)\n",
    "print(count_parameters(model))\n",
    "optimizer = torch.optim.Adam(model.parameters(), lr=.01)\n",
    "epochs = 5\n",
    "\n",
    "for i in range(epochs):\n",
    "    train_loss = train(model, train_loader, optimizer, device)\n",
    "    test_loss, accuracy = test(model, test_loader, device)\n",
    "    print(f'train loss: {train_loss}, test loss: {test_loss}, test accuracy: {accuracy}')\n",
    "\n",
    "\n"
   ]
  },
  {
   "cell_type": "code",
   "execution_count": null,
   "id": "7c41dabc",
   "metadata": {},
   "outputs": [],
   "source": []
  }
 ],
 "metadata": {
  "kernelspec": {
   "display_name": "torch_matplotlib",
   "language": "python",
   "name": "python3"
  },
  "language_info": {
   "codemirror_mode": {
    "name": "ipython",
    "version": 3
   },
   "file_extension": ".py",
   "mimetype": "text/x-python",
   "name": "python",
   "nbconvert_exporter": "python",
   "pygments_lexer": "ipython3",
   "version": "3.12.3"
  }
 },
 "nbformat": 4,
 "nbformat_minor": 5
}
